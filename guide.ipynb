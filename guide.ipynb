{
  "cells": [
    {
      "cell_type": "markdown",
      "metadata": {},
      "source": [
        "# A Practical Guide to Support Vector Classification"
      ]
    },
    {
      "cell_type": "markdown",
      "metadata": {},
      "source": [
        "## Examples of the Proposed Procedure"
      ]
    },
    {
      "cell_type": "markdown",
      "metadata": {
        "id": "-iHHKsxYU31G"
      },
      "source": [
        "### Package Installation"
      ]
    },
    {
      "cell_type": "code",
      "execution_count": 1,
      "metadata": {
        "id": "ZV_61WOqU31H"
      },
      "outputs": [],
      "source": [
        "%%capture\n",
        "%pip install -U libsvm-official\n",
        "%pip install numpy\n",
        "%pip install scipy"
      ]
    },
    {
      "cell_type": "code",
      "execution_count": 2,
      "metadata": {
        "id": "iZT7AqntU31I"
      },
      "outputs": [],
      "source": [
        "from libsvm.svmutil import *\n",
        "import numpy as np\n",
        "\n",
        "import io\n",
        "import urllib.request"
      ]
    },
    {
      "cell_type": "markdown",
      "metadata": {
        "id": "Ii2OsY2zU31K"
      },
      "source": [
        "### Astroparticle Physics"
      ]
    },
    {
      "cell_type": "markdown",
      "metadata": {
        "id": "L97csMjNU31L"
      },
      "source": [
        "- Load data\n",
        "\n",
        "You can find data sets at [LIBSVM Data Sets](https://www.csie.ntu.edu.tw/~cjlin/libsvmtools/datasets/)."
      ]
    },
    {
      "cell_type": "code",
      "execution_count": 3,
      "metadata": {
        "id": "BEm89MJ7U31L"
      },
      "outputs": [],
      "source": [
        "def load_url_libsvm(url, return_scipy=True):\n",
        "    with io.TextIOWrapper(urllib.request.urlopen(url)) as r:\n",
        "        return svm_read_problem(r, return_scipy=return_scipy)\n",
        "\n",
        "svmguide1_train_url = 'https://www.csie.ntu.edu.tw/~cjlin/\\\n",
        "libsvmtools/datasets/binary/svmguide1'\n",
        "svmguide1_test_url = 'https://www.csie.ntu.edu.tw/~cjlin/\\\n",
        "libsvmtools/datasets/binary/svmguide1.t'\n",
        "y_train, x_train = load_url_libsvm(svmguide1_train_url)\n",
        "y_test, x_test = load_url_libsvm(svmguide1_test_url)"
      ]
    },
    {
      "cell_type": "markdown",
      "metadata": {
        "id": "BREV-sbYU31L"
      },
      "source": [
        "- Original sets with default parameters"
      ]
    },
    {
      "cell_type": "code",
      "execution_count": 4,
      "metadata": {
        "colab": {
          "base_uri": "https://localhost:8080/"
        },
        "id": "gZzt5mRgU31M",
        "outputId": "8c8b2012-729a-4a13-830b-085fa2d398f8"
      },
      "outputs": [
        {
          "name": "stdout",
          "output_type": "stream",
          "text": [
            "Accuracy = 66.925% (2677/4000) (classification)\n"
          ]
        }
      ],
      "source": [
        "m = svm_train(y_train, x_train, \"-q\")\n",
        "pred_labels, pred_metrics, pred_values = svm_predict(\n",
        "    y_test, x_test, m\n",
        "    )"
      ]
    },
    {
      "cell_type": "markdown",
      "metadata": {
        "id": "iHxAD8rmU31M"
      },
      "source": [
        "- Scaled sets with default parameters"
      ]
    },
    {
      "cell_type": "code",
      "execution_count": 5,
      "metadata": {
        "id": "TB8ewIYIU31M"
      },
      "outputs": [],
      "source": [
        "%%capture\n",
        "scale_param = csr_find_scale_param(x_train, lower=-1, upper=1)\n",
        "x_train_scaled = csr_scale(x_train, scale_param)\n",
        "x_test_scaled = csr_scale(x_test, scale_param)"
      ]
    },
    {
      "cell_type": "code",
      "execution_count": 6,
      "metadata": {},
      "outputs": [
        {
          "name": "stdout",
          "output_type": "stream",
          "text": [
            "Accuracy = 96.15% (3846/4000) (classification)\n"
          ]
        }
      ],
      "source": [
        "m_scaled = svm_train(y_train, x_train_scaled, \"-q\")\n",
        "pred_labels, pred_metrics, pred_values = svm_predict(\n",
        "    y_test, x_test_scaled, m_scaled\n",
        "    )"
      ]
    },
    {
      "cell_type": "markdown",
      "metadata": {
        "id": "lnYObgqKU31N"
      },
      "source": [
        "- Scaled sets with parameter selection"
      ]
    },
    {
      "cell_type": "code",
      "execution_count": null,
      "metadata": {
        "colab": {
          "base_uri": "https://localhost:8080/"
        },
        "id": "Llz5Q60bYLKe",
        "notebookRunGroups": {
          "groupValue": "2"
        },
        "outputId": "e9a48ac3-3bce-4e80-d71b-faff6a6d6af7"
      },
      "outputs": [
        {
          "name": "stdout",
          "output_type": "stream",
          "text": [
            "-10.0 -10.0 64.7459 (best c=0.0009765625, g=0.0009765625, rate=64.7459)\n",
            "-10.0  -5.0 64.7459 (best c=0.0009765625, g=0.0009765625, rate=64.7459)\n",
            "-10.0   0.0 64.7459 (best c=0.0009765625, g=0.0009765625, rate=64.7459)\n",
            "-10.0   5.0 64.7459 (best c=0.0009765625, g=0.0009765625, rate=64.7459)\n",
            "-10.0  10.0 64.7459 (best c=0.0009765625, g=0.0009765625, rate=64.7459)\n",
            " -5.0 -10.0 64.7459 (best c=0.0009765625, g=0.0009765625, rate=64.7459)\n",
            " -5.0  -5.0 64.9077 (best c=0.03125, g=0.03125, rate=64.9077)\n",
            " -5.0   0.0 93.2988 (best c=0.03125, g=1.0, rate=93.2988)\n",
            " -5.0   5.0 86.9861 (best c=0.03125, g=1.0, rate=93.2988)\n",
            " -5.0  10.0 64.7459 (best c=0.03125, g=1.0, rate=93.2988)\n",
            "  0.0 -10.0 65.0049 (best c=0.03125, g=1.0, rate=93.2988)\n",
            "  0.0  -5.0 93.6225 (best c=1.0, g=0.03125, rate=93.6225)\n",
            "  0.0   0.0 96.6656 (best c=1.0, g=1.0, rate=96.6656)\n",
            "  0.0   5.0 95.8886 (best c=1.0, g=1.0, rate=96.6656)\n",
            "  0.0  10.0 73.7132 (best c=1.0, g=1.0, rate=96.6656)\n",
            "  5.0 -10.0 93.2988 (best c=1.0, g=1.0, rate=96.6656)\n",
            "  5.0  -5.0 95.8886 (best c=1.0, g=1.0, rate=96.6656)\n",
            "  5.0   0.0 96.8598 (best c=32.0, g=1.0, rate=96.8598)\n",
            "  5.0   5.0 94.8203 (best c=32.0, g=1.0, rate=96.8598)\n",
            "  5.0  10.0 76.0764 (best c=32.0, g=1.0, rate=96.8598)\n",
            " 10.0 -10.0 95.4678 (best c=32.0, g=1.0, rate=96.8598)\n",
            " 10.0  -5.0 96.4713 (best c=32.0, g=1.0, rate=96.8598)\n",
            " 10.0   0.0 96.6008 (best c=32.0, g=1.0, rate=96.8598)\n",
            " 10.0   5.0 94.5290 (best c=32.0, g=1.0, rate=96.8598)\n",
            " 10.0  10.0 76.0764 (best c=32.0, g=1.0, rate=96.8598)\n",
            "  5.0   0.0 96.8598\n"
          ]
        }
      ],
      "source": [
        "def compute_acc(y_true, y_pred):\n",
        "    return np.mean(y_true==y_pred)\n",
        "\n",
        "evaluations = {\n",
        "    \"ACC\": compute_acc\n",
        "}\n",
        "\n",
        "def grid_serach(y, x, n_folds=5,\n",
        "                c_exp_space=[-10, 10, 5], g_exp_space=[-10, 10, 5],\n",
        "                metric=\"ACC\"):\n",
        "    c_seq = np.linspace(*c_exp_space)\n",
        "    g_seq = np.linspace(*g_exp_space)\n",
        "    grid_space = [(c, g) for c in c_seq for g in g_seq]\n",
        "\n",
        "    l = len(y)\n",
        "\n",
        "    y_pred = np.zeros(l)\n",
        "\n",
        "    permutation = np.random.permutation(l)\n",
        "    index_per_fold = [\n",
        "        permutation[int(i * l / n_folds):int((i+1) * l / n_folds)]\n",
        "        for i in range(n_folds)\n",
        "    ]\n",
        "\n",
        "    best_score = 0\n",
        "    best_params = best_params_info = \"\"\n",
        "\n",
        "    for params in grid_space:\n",
        "        for i in range(n_folds):\n",
        "            valid_index = index_per_fold[i]\n",
        "            train_index = np.concatenate(\n",
        "                index_per_fold[:i] + index_per_fold[i+1:]\n",
        "                )\n",
        "\n",
        "            options = f\"-c {2**params[0]} -g {2**params[1]} -q\"\n",
        "            m = svm_train(y[train_index], x[train_index], options)\n",
        "\n",
        "            pred_labels, _, _ = svm_predict(\n",
        "                y[valid_index], x[valid_index], m, \"-q\"\n",
        "                )\n",
        "            y_pred[valid_index] = np.array(pred_labels)\n",
        "\n",
        "        cv_score = evaluations[metric](y, y_pred) * 100\n",
        "        if cv_score > best_score:\n",
        "            best_score = cv_score\n",
        "            best_params = params\n",
        "            best_params_info = \\\n",
        "                \"(best c={0}, g={1}, rate={2:.4f})\".format(\n",
        "                    2**best_params[0], 2**best_params[1], best_score\n",
        "                    )\n",
        "        print(\"{0:>5} {1:>5} {2:.4f} {3}\".format(\n",
        "            *params, cv_score, best_params_info\n",
        "        ))\n",
        "\n",
        "    print(\"{0:>5} {1:>5} {2:.4f}\".format(\n",
        "        *best_params, best_score\n",
        "    ))\n",
        "    return best_params\n",
        "\n",
        "best_params = grid_serach(y_train, x_train_scaled)"
      ]
    },
    {
      "cell_type": "markdown",
      "metadata": {},
      "source": [
        "- Use the best parameters $C$ and $\\gamma$ to train on the entire training set and evaluate the model on the test set."
      ]
    },
    {
      "cell_type": "code",
      "execution_count": 8,
      "metadata": {
        "colab": {
          "base_uri": "https://localhost:8080/"
        },
        "id": "U5rf8QaeU31O",
        "outputId": "eea28971-adfc-4364-cc59-ef823f669a90"
      },
      "outputs": [
        {
          "name": "stdout",
          "output_type": "stream",
          "text": [
            "Accuracy = 96.85% (3874/4000) (classification)\n"
          ]
        }
      ],
      "source": [
        "options = f\"-c {2**best_params[0]} -g {2**best_params[1]} -q\"\n",
        "m_scaled = svm_train(y_train, x_train_scaled, options)\n",
        "pred_labels, pred_metrics, pred_values = svm_predict(\n",
        "    y_test, x_test_scaled, m_scaled\n",
        "    )"
      ]
    },
    {
      "cell_type": "markdown",
      "metadata": {},
      "source": [
        "### Bioinformatics"
      ]
    },
    {
      "cell_type": "markdown",
      "metadata": {},
      "source": [
        "- Load data"
      ]
    },
    {
      "cell_type": "code",
      "execution_count": 5,
      "metadata": {},
      "outputs": [],
      "source": [
        "svmguide2_train_url = 'https://www.csie.ntu.edu.tw/~cjlin/\\\n",
        "libsvmtools/datasets/multiclass/svmguide2'\n",
        "y_train, x_train = load_url_libsvm(svmguide2_train_url)"
      ]
    },
    {
      "cell_type": "markdown",
      "metadata": {},
      "source": [
        "- Original sets with default parameters"
      ]
    },
    {
      "cell_type": "code",
      "execution_count": 7,
      "metadata": {},
      "outputs": [
        {
          "name": "stdout",
          "output_type": "stream",
          "text": [
            "Cross Validation Accuracy = 56.5217%\n"
          ]
        }
      ],
      "source": [
        "m = svm_train(y_train, x_train, \"-v 5 -q\")"
      ]
    },
    {
      "cell_type": "markdown",
      "metadata": {},
      "source": [
        "- Scaled sets with default parameters"
      ]
    },
    {
      "cell_type": "code",
      "execution_count": 9,
      "metadata": {},
      "outputs": [],
      "source": [
        "%%capture\n",
        "scale_param = csr_find_scale_param(x_train, lower=-1, upper=1)\n",
        "x_train_scaled = csr_scale(x_train, scale_param)"
      ]
    },
    {
      "cell_type": "code",
      "execution_count": 10,
      "metadata": {},
      "outputs": [
        {
          "name": "stdout",
          "output_type": "stream",
          "text": [
            "Cross Validation Accuracy = 79.7954%\n"
          ]
        }
      ],
      "source": [
        "m_scaled = svm_train(y_train, x_train_scaled, \"-v 5 -q\")"
      ]
    },
    {
      "cell_type": "markdown",
      "metadata": {},
      "source": [
        "- Scaled sets with parameter selection"
      ]
    },
    {
      "cell_type": "code",
      "execution_count": 11,
      "metadata": {},
      "outputs": [
        {
          "name": "stdout",
          "output_type": "stream",
          "text": [
            "-10.0 -10.0 56.5217 (best c=0.0009765625, g=0.0009765625, rate=56.5217)\n",
            "-10.0  -5.0 56.5217 (best c=0.0009765625, g=0.0009765625, rate=56.5217)\n",
            "-10.0   0.0 56.5217 (best c=0.0009765625, g=0.0009765625, rate=56.5217)\n",
            "-10.0   5.0 56.5217 (best c=0.0009765625, g=0.0009765625, rate=56.5217)\n",
            "-10.0  10.0 56.5217 (best c=0.0009765625, g=0.0009765625, rate=56.5217)\n",
            " -5.0 -10.0 56.5217 (best c=0.0009765625, g=0.0009765625, rate=56.5217)\n",
            " -5.0  -5.0 56.5217 (best c=0.0009765625, g=0.0009765625, rate=56.5217)\n",
            " -5.0   0.0 56.5217 (best c=0.0009765625, g=0.0009765625, rate=56.5217)\n",
            " -5.0   5.0 56.5217 (best c=0.0009765625, g=0.0009765625, rate=56.5217)\n",
            " -5.0  10.0 56.5217 (best c=0.0009765625, g=0.0009765625, rate=56.5217)\n",
            "  0.0 -10.0 56.5217 (best c=0.0009765625, g=0.0009765625, rate=56.5217)\n",
            "  0.0  -5.0 76.4706 (best c=1.0, g=0.03125, rate=76.4706)\n",
            "  0.0   0.0 80.5627 (best c=1.0, g=1.0, rate=80.5627)\n",
            "  0.0   5.0 56.5217 (best c=1.0, g=1.0, rate=80.5627)\n",
            "  0.0  10.0 56.5217 (best c=1.0, g=1.0, rate=80.5627)\n",
            "  5.0 -10.0 76.7263 (best c=1.0, g=1.0, rate=80.5627)\n",
            "  5.0  -5.0 83.1202 (best c=32.0, g=0.03125, rate=83.1202)\n",
            "  5.0   0.0 80.3069 (best c=32.0, g=0.03125, rate=83.1202)\n",
            "  5.0   5.0 56.5217 (best c=32.0, g=0.03125, rate=83.1202)\n",
            "  5.0  10.0 56.5217 (best c=32.0, g=0.03125, rate=83.1202)\n",
            " 10.0 -10.0 82.6087 (best c=32.0, g=0.03125, rate=83.1202)\n",
            " 10.0  -5.0 82.0972 (best c=32.0, g=0.03125, rate=83.1202)\n",
            " 10.0   0.0 80.3069 (best c=32.0, g=0.03125, rate=83.1202)\n",
            " 10.0   5.0 56.5217 (best c=32.0, g=0.03125, rate=83.1202)\n",
            " 10.0  10.0 56.5217 (best c=32.0, g=0.03125, rate=83.1202)\n",
            "  5.0  -5.0 83.1202\n"
          ]
        }
      ],
      "source": [
        "best_params = grid_serach(y_train, x_train_scaled)"
      ]
    },
    {
      "cell_type": "markdown",
      "metadata": {},
      "source": [
        "- Use the best parameters $C$ and $\\gamma$ to train on the entire training set and evaluate the model with five fold cross-validation."
      ]
    },
    {
      "cell_type": "code",
      "execution_count": 12,
      "metadata": {},
      "outputs": [
        {
          "name": "stdout",
          "output_type": "stream",
          "text": [
            "Cross Validation Accuracy = 83.6317%\n"
          ]
        }
      ],
      "source": [
        "options = f\"-c {2**best_params[0]} -g {2**best_params[1]} -v 5 -q\"\n",
        "m_scaled = svm_train(y_train, x_train_scaled, options)"
      ]
    },
    {
      "cell_type": "markdown",
      "metadata": {},
      "source": [
        "### Vehicle"
      ]
    },
    {
      "cell_type": "markdown",
      "metadata": {},
      "source": [
        "- Load data"
      ]
    },
    {
      "cell_type": "code",
      "execution_count": 14,
      "metadata": {},
      "outputs": [],
      "source": [
        "svmguide1_train_url = 'https://www.csie.ntu.edu.tw/~cjlin/\\\n",
        "libsvmtools/datasets/binary/svmguide3'\n",
        "svmguide1_test_url = 'https://www.csie.ntu.edu.tw/~cjlin/\\\n",
        "libsvmtools/datasets/binary/svmguide3.t'\n",
        "y_train, x_train = load_url_libsvm(svmguide1_train_url)\n",
        "y_test, x_test = load_url_libsvm(svmguide1_test_url)"
      ]
    },
    {
      "cell_type": "markdown",
      "metadata": {},
      "source": [
        "- Original sets with default parameters"
      ]
    },
    {
      "cell_type": "code",
      "execution_count": 15,
      "metadata": {},
      "outputs": [
        {
          "name": "stdout",
          "output_type": "stream",
          "text": [
            "Accuracy = 2.43902% (1/41) (classification)\n"
          ]
        }
      ],
      "source": [
        "m = svm_train(y_train, x_train, \"-q\")\n",
        "pred_labels, pred_metrics, pred_values = svm_predict(\n",
        "    y_test, x_test, m\n",
        "    )"
      ]
    },
    {
      "cell_type": "markdown",
      "metadata": {},
      "source": [
        "- Scaled sets with default parameters"
      ]
    },
    {
      "cell_type": "code",
      "execution_count": 16,
      "metadata": {},
      "outputs": [],
      "source": [
        "%%capture\n",
        "scale_param = csr_find_scale_param(x_train, lower=-1, upper=1)\n",
        "x_train_scaled = csr_scale(x_train, scale_param)\n",
        "x_test_scaled = csr_scale(x_test, scale_param)"
      ]
    },
    {
      "cell_type": "code",
      "execution_count": 17,
      "metadata": {},
      "outputs": [
        {
          "name": "stdout",
          "output_type": "stream",
          "text": [
            "Accuracy = 12.1951% (5/41) (classification)\n"
          ]
        }
      ],
      "source": [
        "m_scaled = svm_train(y_train, x_train_scaled, \"-q\")\n",
        "pred_labels, pred_metrics, pred_values = svm_predict(\n",
        "    y_test, x_test_scaled, m_scaled\n",
        "    )"
      ]
    },
    {
      "cell_type": "markdown",
      "metadata": {},
      "source": [
        "- Scaled sets with parameter selection"
      ]
    },
    {
      "cell_type": "code",
      "execution_count": 18,
      "metadata": {},
      "outputs": [
        {
          "name": "stdout",
          "output_type": "stream",
          "text": [
            "-10.0 -10.0 76.1866 (best c=0.0009765625, g=0.0009765625, rate=76.1866)\n",
            "-10.0  -5.0 76.1866 (best c=0.0009765625, g=0.0009765625, rate=76.1866)\n",
            "-10.0   0.0 76.1866 (best c=0.0009765625, g=0.0009765625, rate=76.1866)\n",
            "-10.0   5.0 76.1866 (best c=0.0009765625, g=0.0009765625, rate=76.1866)\n",
            "-10.0  10.0 76.1866 (best c=0.0009765625, g=0.0009765625, rate=76.1866)\n",
            " -5.0 -10.0 76.1866 (best c=0.0009765625, g=0.0009765625, rate=76.1866)\n",
            " -5.0  -5.0 76.1866 (best c=0.0009765625, g=0.0009765625, rate=76.1866)\n",
            " -5.0   0.0 76.1866 (best c=0.0009765625, g=0.0009765625, rate=76.1866)\n",
            " -5.0   5.0 76.1866 (best c=0.0009765625, g=0.0009765625, rate=76.1866)\n",
            " -5.0  10.0 76.1866 (best c=0.0009765625, g=0.0009765625, rate=76.1866)\n",
            "  0.0 -10.0 76.1866 (best c=0.0009765625, g=0.0009765625, rate=76.1866)\n",
            "  0.0  -5.0 76.9107 (best c=1.0, g=0.03125, rate=76.9107)\n",
            "  0.0   0.0 81.0137 (best c=1.0, g=1.0, rate=81.0137)\n",
            "  0.0   5.0 76.1062 (best c=1.0, g=1.0, rate=81.0137)\n",
            "  0.0  10.0 76.1866 (best c=1.0, g=1.0, rate=81.0137)\n",
            "  5.0 -10.0 76.8302 (best c=1.0, g=1.0, rate=81.0137)\n",
            "  5.0  -5.0 83.0249 (best c=32.0, g=0.03125, rate=83.0249)\n",
            "  5.0   0.0 79.0024 (best c=32.0, g=0.03125, rate=83.0249)\n",
            "  5.0   5.0 75.8648 (best c=32.0, g=0.03125, rate=83.0249)\n",
            "  5.0  10.0 76.1866 (best c=32.0, g=0.03125, rate=83.0249)\n",
            " 10.0 -10.0 81.5768 (best c=32.0, g=0.03125, rate=83.0249)\n",
            " 10.0  -5.0 83.5881 (best c=1024.0, g=0.03125, rate=83.5881)\n",
            " 10.0   0.0 77.2325 (best c=1024.0, g=0.03125, rate=83.5881)\n",
            " 10.0   5.0 75.8648 (best c=1024.0, g=0.03125, rate=83.5881)\n",
            " 10.0  10.0 76.1866 (best c=1024.0, g=0.03125, rate=83.5881)\n",
            " 10.0  -5.0 83.5881\n"
          ]
        }
      ],
      "source": [
        "best_params = grid_serach(y_train, x_train_scaled)"
      ]
    },
    {
      "cell_type": "markdown",
      "metadata": {},
      "source": [
        "- Use the best parameters $C$ and $\\gamma$ to train on the entire training set and evaluate the model on the test set."
      ]
    },
    {
      "cell_type": "code",
      "execution_count": 19,
      "metadata": {},
      "outputs": [
        {
          "name": "stdout",
          "output_type": "stream",
          "text": [
            "Accuracy = 82.9268% (34/41) (classification)\n"
          ]
        }
      ],
      "source": [
        "options = f\"-c {2**best_params[0]} -g {2**best_params[1]} -q\"\n",
        "m_scaled = svm_train(y_train, x_train_scaled, options)\n",
        "pred_labels, pred_metrics, pred_values = svm_predict(\n",
        "    y_test, x_test_scaled, m_scaled\n",
        "    )"
      ]
    }
  ],
  "metadata": {
    "colab": {
      "provenance": []
    },
    "kernelspec": {
      "display_name": "base",
      "language": "python",
      "name": "python3"
    },
    "language_info": {
      "codemirror_mode": {
        "name": "ipython",
        "version": 3
      },
      "file_extension": ".py",
      "mimetype": "text/x-python",
      "name": "python",
      "nbconvert_exporter": "python",
      "pygments_lexer": "ipython3",
      "version": "3.10.16"
    }
  },
  "nbformat": 4,
  "nbformat_minor": 0
}
